{
 "cells": [
  {
   "cell_type": "markdown",
   "metadata": {},
   "source": [
    "# Sprint 11 - Proyecto"
   ]
  },
  {
   "cell_type": "markdown",
   "metadata": {},
   "source": [
    "# Trabajas en una empresa emergente que vende productos alimenticios. Debes investigar el comportamiento del usuario para la aplicación de la empresa.\n",
    "\n",
    "# Primero, estudia el embudo de ventas. Descubre cómo los usuarios llegan a la etapa de compra. ¿Cuántos usuarios realmente llegan a esta etapa? ¿Cuántos se atascan en etapas anteriores? ¿Qué etapas en particular?\n",
    "\n",
    "# Luego, observa los resultados de un test A/A/B (sigue leyendo para obtener más información sobre los test A/A/B). Al equipo de diseño le gustaría cambiar las fuentes de toda la aplicación, pero la gerencia teme que los usuarios piensen que el nuevo diseño es intimidante. Por ello, deciden tomar una decisión basada en los resultados de un test A/A/B.\n",
    "\n",
    "# Los usuarios se dividen en tres grupos: dos grupos de control obtienen las fuentes antiguas y un grupo de prueba obtiene las nuevas. Descubre qué conjunto de fuentes produce mejores resultados.\n",
    "\n",
    "# Crear dos grupos A tiene ciertas ventajas. Podemos establecer el principio de que solo confiaremos en la exactitud de nuestras pruebas cuando los dos grupos de control sean similares. Si hay diferencias significativas entre los grupos A, esto puede ayudarnos a descubrir factores que pueden estar distorsionando los resultados. La comparación de grupos de control también nos dice cuánto tiempo y datos necesitaremos cuando realicemos más tests.\n",
    "\n",
    "# Utilizarás el mismo dataset para el análisis general y para el análisis A/A/B. En proyectos reales, los experimentos se llevan a cabo constantemente. El equipo de análisis estudia la calidad de una aplicación utilizando datos generales, sin prestar atención a si los usuarios participan en experimentos."
   ]
  },
  {
   "cell_type": "markdown",
   "metadata": {},
   "source": [
    "# Importar librerias"
   ]
  },
  {
   "cell_type": "code",
   "execution_count": 21,
   "metadata": {},
   "outputs": [],
   "source": [
    "import pandas as pd\n",
    "import numpy as np\n",
    "import matplotlib.pyplot as plt\n",
    "import seaborn as sns\n",
    "from scipy import stats as st\n",
    "from scipy import stats"
   ]
  },
  {
   "cell_type": "markdown",
   "metadata": {},
   "source": [
    "# Paso 1. Abrir el archivo de datos y leer la información general"
   ]
  },
  {
   "cell_type": "code",
   "execution_count": 22,
   "metadata": {},
   "outputs": [
    {
     "name": "stdout",
     "output_type": "stream",
     "text": [
      "                 EventName         DeviceIDHash  EventTimestamp  ExpId\n",
      "0         MainScreenAppear  4575588528974610257      1564029816    246\n",
      "1         MainScreenAppear  7416695313311560658      1564053102    246\n",
      "2  PaymentScreenSuccessful  3518123091307005509      1564054127    248\n",
      "3         CartScreenAppear  3518123091307005509      1564054127    248\n",
      "4  PaymentScreenSuccessful  6217807653094995999      1564055322    248\n",
      "5         CartScreenAppear  6217807653094995999      1564055323    248\n",
      "6       OffersScreenAppear  8351860793733343758      1564066242    246\n",
      "7         MainScreenAppear  5682100281902512875      1564085677    246\n",
      "8         MainScreenAppear  1850981295691852772      1564086702    247\n",
      "9         MainScreenAppear  5407636962369102641      1564112112    246\n"
     ]
    }
   ],
   "source": [
    "df_logs = pd.read_csv('/datasets/logs_exp_us.csv', sep='\\t')\n",
    "print(df_logs.head(10))"
   ]
  },
  {
   "cell_type": "code",
   "execution_count": 23,
   "metadata": {},
   "outputs": [
    {
     "name": "stdout",
     "output_type": "stream",
     "text": [
      "<class 'pandas.core.frame.DataFrame'>\n",
      "RangeIndex: 244126 entries, 0 to 244125\n",
      "Data columns (total 4 columns):\n",
      " #   Column          Non-Null Count   Dtype \n",
      "---  ------          --------------   ----- \n",
      " 0   EventName       244126 non-null  object\n",
      " 1   DeviceIDHash    244126 non-null  int64 \n",
      " 2   EventTimestamp  244126 non-null  int64 \n",
      " 3   ExpId           244126 non-null  int64 \n",
      "dtypes: int64(3), object(1)\n",
      "memory usage: 7.5+ MB\n"
     ]
    },
    {
     "data": {
      "text/html": [
       "<div>\n",
       "<style scoped>\n",
       "    .dataframe tbody tr th:only-of-type {\n",
       "        vertical-align: middle;\n",
       "    }\n",
       "\n",
       "    .dataframe tbody tr th {\n",
       "        vertical-align: top;\n",
       "    }\n",
       "\n",
       "    .dataframe thead th {\n",
       "        text-align: right;\n",
       "    }\n",
       "</style>\n",
       "<table border=\"1\" class=\"dataframe\">\n",
       "  <thead>\n",
       "    <tr style=\"text-align: right;\">\n",
       "      <th></th>\n",
       "      <th>DeviceIDHash</th>\n",
       "      <th>EventTimestamp</th>\n",
       "      <th>ExpId</th>\n",
       "    </tr>\n",
       "  </thead>\n",
       "  <tbody>\n",
       "    <tr>\n",
       "      <th>count</th>\n",
       "      <td>2.441260e+05</td>\n",
       "      <td>2.441260e+05</td>\n",
       "      <td>244126.000000</td>\n",
       "    </tr>\n",
       "    <tr>\n",
       "      <th>mean</th>\n",
       "      <td>4.627568e+18</td>\n",
       "      <td>1.564914e+09</td>\n",
       "      <td>247.022296</td>\n",
       "    </tr>\n",
       "    <tr>\n",
       "      <th>std</th>\n",
       "      <td>2.642425e+18</td>\n",
       "      <td>1.771343e+05</td>\n",
       "      <td>0.824434</td>\n",
       "    </tr>\n",
       "    <tr>\n",
       "      <th>min</th>\n",
       "      <td>6.888747e+15</td>\n",
       "      <td>1.564030e+09</td>\n",
       "      <td>246.000000</td>\n",
       "    </tr>\n",
       "    <tr>\n",
       "      <th>25%</th>\n",
       "      <td>2.372212e+18</td>\n",
       "      <td>1.564757e+09</td>\n",
       "      <td>246.000000</td>\n",
       "    </tr>\n",
       "    <tr>\n",
       "      <th>50%</th>\n",
       "      <td>4.623192e+18</td>\n",
       "      <td>1.564919e+09</td>\n",
       "      <td>247.000000</td>\n",
       "    </tr>\n",
       "    <tr>\n",
       "      <th>75%</th>\n",
       "      <td>6.932517e+18</td>\n",
       "      <td>1.565075e+09</td>\n",
       "      <td>248.000000</td>\n",
       "    </tr>\n",
       "    <tr>\n",
       "      <th>max</th>\n",
       "      <td>9.222603e+18</td>\n",
       "      <td>1.565213e+09</td>\n",
       "      <td>248.000000</td>\n",
       "    </tr>\n",
       "  </tbody>\n",
       "</table>\n",
       "</div>"
      ],
      "text/plain": [
       "       DeviceIDHash  EventTimestamp          ExpId\n",
       "count  2.441260e+05    2.441260e+05  244126.000000\n",
       "mean   4.627568e+18    1.564914e+09     247.022296\n",
       "std    2.642425e+18    1.771343e+05       0.824434\n",
       "min    6.888747e+15    1.564030e+09     246.000000\n",
       "25%    2.372212e+18    1.564757e+09     246.000000\n",
       "50%    4.623192e+18    1.564919e+09     247.000000\n",
       "75%    6.932517e+18    1.565075e+09     248.000000\n",
       "max    9.222603e+18    1.565213e+09     248.000000"
      ]
     },
     "execution_count": 23,
     "metadata": {},
     "output_type": "execute_result"
    }
   ],
   "source": [
    "df_logs.info()\n",
    "df_logs.describe()"
   ]
  },
  {
   "cell_type": "markdown",
   "metadata": {},
   "source": [
    "# Paso 2. Preparar los datos para el análisis"
   ]
  },
  {
   "cell_type": "code",
   "execution_count": 24,
   "metadata": {},
   "outputs": [
    {
     "name": "stdout",
     "output_type": "stream",
     "text": [
      "                event_name              user_id           timestamp  exp_id  \\\n",
      "0         MainScreenAppear  4575588528974610257 2019-07-25 04:43:36     246   \n",
      "1         MainScreenAppear  7416695313311560658 2019-07-25 11:11:42     246   \n",
      "2  PaymentScreenSuccessful  3518123091307005509 2019-07-25 11:28:47     248   \n",
      "3         CartScreenAppear  3518123091307005509 2019-07-25 11:28:47     248   \n",
      "4  PaymentScreenSuccessful  6217807653094995999 2019-07-25 11:48:42     248   \n",
      "\n",
      "         date  \n",
      "0  2019-07-25  \n",
      "1  2019-07-25  \n",
      "2  2019-07-25  \n",
      "3  2019-07-25  \n",
      "4  2019-07-25  \n"
     ]
    }
   ],
   "source": [
    "df_logs.columns = ['event_name', 'user_id', 'timestamp', 'exp_id']\n",
    "\n",
    "df_logs['timestamp'] = pd.to_datetime(df_logs['timestamp'], unit='s')\n",
    "\n",
    "df_logs['date'] = df_logs['timestamp'].dt.date\n",
    "\n",
    "print(df_logs.head())"
   ]
  },
  {
   "cell_type": "markdown",
   "metadata": {},
   "source": [
    "# Paso 3. Estudiar y comprobar los datos"
   ]
  },
  {
   "cell_type": "markdown",
   "metadata": {},
   "source": [
    "# ¿Cuántos eventos hay en los registros?"
   ]
  },
  {
   "cell_type": "code",
   "execution_count": 25,
   "metadata": {},
   "outputs": [
    {
     "name": "stdout",
     "output_type": "stream",
     "text": [
      "Número total de eventos en los registros: 244126\n"
     ]
    }
   ],
   "source": [
    "num_events = len(df_logs)\n",
    "print(f\"Número total de eventos en los registros: {num_events}\")"
   ]
  },
  {
   "cell_type": "markdown",
   "metadata": {},
   "source": [
    "# ¿Cuántos usuarios hay en los registros?"
   ]
  },
  {
   "cell_type": "code",
   "execution_count": 26,
   "metadata": {},
   "outputs": [
    {
     "name": "stdout",
     "output_type": "stream",
     "text": [
      "Número total de usuarios en los registros: 7551\n"
     ]
    }
   ],
   "source": [
    "num_users = df_logs['user_id'].nunique()\n",
    "print(f\"Número total de usuarios en los registros: {num_users}\")"
   ]
  },
  {
   "cell_type": "markdown",
   "metadata": {},
   "source": [
    "# ¿Cuál es el promedio de eventos por usuario?"
   ]
  },
  {
   "cell_type": "code",
   "execution_count": 27,
   "metadata": {},
   "outputs": [
    {
     "name": "stdout",
     "output_type": "stream",
     "text": [
      "Promedio de eventos por usuario: 32.33\n"
     ]
    }
   ],
   "source": [
    "avg_events_per_user = num_events / num_users\n",
    "print(f\"Promedio de eventos por usuario: {avg_events_per_user:.2f}\")"
   ]
  },
  {
   "cell_type": "markdown",
   "metadata": {},
   "source": [
    "# ¿Qué periodo de tiempo cubren los datos? Encuentra la fecha máxima y mínima. Traza un histograma por fecha y hora. ¿Puedes tener seguridad de que tienes datos igualmente completos para todo el periodo? Los eventos más antiguos podrían terminar en los registros de algunos usuarios por razones técnicas y esto podría sesgar el panorama general. Encuentra el momento en el que los datos comienzan a estar completos e ignora la sección anterior. ¿Qué periodo representan realmente los datos?"
   ]
  },
  {
   "cell_type": "code",
   "execution_count": 28,
   "metadata": {},
   "outputs": [
    {
     "name": "stdout",
     "output_type": "stream",
     "text": [
      "Fecha mínima: 2019-07-25 04:43:36\n",
      "Fecha máxima: 2019-08-07 21:15:17\n",
      "Período de tiempo cubierto 2019-07-25 al 2019-08-07\n"
     ]
    },
    {
     "data": {
      "image/png": "[encoded data removed]",
      "text/plain": [
       "<Figure size 1500x600 with 1 Axes>"
      ]
     },
     "metadata": {},
     "output_type": "display_data"
    }
   ],
   "source": [
    "min_date = df_logs['timestamp'].min()\n",
    "max_date = df_logs['timestamp'].max()\n",
    "\n",
    "print(f\"Fecha mínima: {min_date}\")\n",
    "print(f\"Fecha máxima: {max_date}\")\n",
    "print(f\"Período de tiempo cubierto {min_date.date()} al {max_date.date()}\")\n",
    "\n",
    "plt.figure(figsize=(15, 6))\n",
    "df_logs['date'].value_counts().sort_index().plot(kind='bar')\n",
    "plt.title('Distribución de Eventos por Fecha')\n",
    "plt.xlabel('Fecha')\n",
    "plt.ylabel('Número de Eventos')\n",
    "plt.xticks(rotation=90) \n",
    "plt.grid(axis='y', linestyle='--', alpha=0.7)\n",
    "plt.tight_layout() \n",
    "plt.show()"
   ]
  },
  {
   "cell_type": "markdown",
   "metadata": {},
   "source": [
    "<div class=\"alert alert-block alert-info\">\n",
    "<b>Comentario del estudiante</b> <a class=“tocSkip”></a>\n",
    "Mi decision determina que existe una meseta de datos altos y consistentes a partir de 2019-08-01, esa seria la fecha en la que los datos empiezan a estar completos e ignoraria lo anterior!\n",
    "</div>"
   ]
  },
  {
   "cell_type": "code",
   "execution_count": 29,
   "metadata": {},
   "outputs": [
    {
     "name": "stdout",
     "output_type": "stream",
     "text": [
      "\n",
      "Número de eventos antes del filtrado: 244126\n",
      "Número de eventos después del filtrado (a partir de 2019-08-01): 241298\n",
      "\n",
      "El período de tiempo real de los datos (completos) es del 2019-08-01 al 2019-08-07\n"
     ]
    },
    {
     "data": {
      "image/png": "[encoded data removed]",
      "text/plain": [
       "<Figure size 1500x600 with 1 Axes>"
      ]
     },
     "metadata": {},
     "output_type": "display_data"
    }
   ],
   "source": [
    "start_date_complete = pd.to_datetime('2019-08-01').date()\n",
    "\n",
    "df_logs_filtered = df_logs[df_logs['date'] >= start_date_complete].copy()\n",
    "\n",
    "print(f\"\\nNúmero de eventos antes del filtrado: {len(df_logs)}\")\n",
    "print(f\"Número de eventos después del filtrado (a partir de {start_date_complete}): {len(df_logs_filtered)}\")\n",
    "\n",
    "new_min_date = df_logs_filtered['timestamp'].min()\n",
    "new_max_date = df_logs_filtered['timestamp'].max()\n",
    "\n",
    "print(f\"\\nEl período de tiempo real de los datos (completos) es del {new_min_date.date()} al {new_max_date.date()}\")\n",
    "\n",
    "plt.figure(figsize=(15, 6))\n",
    "df_logs_filtered['date'].value_counts().sort_index().plot(kind='bar')\n",
    "plt.title('Distribución de Eventos por Fecha (Datos Filtrados)')\n",
    "plt.xlabel('Fecha')\n",
    "plt.ylabel('Número de Eventos')\n",
    "plt.xticks(rotation=90)\n",
    "plt.grid(axis='y', linestyle='--', alpha=0.7)\n",
    "plt.tight_layout()\n",
    "plt.show()"
   ]
  },
  {
   "cell_type": "markdown",
   "metadata": {},
   "source": [
    "<div class=\"alert alert-block alert-info\">\n",
    "<b>Comentario del estudiante</b> <a class=“tocSkip”></a>\n",
    "Se redujeron 2828 eventos correspondientes al periodo incompleto de Julio, es decir pasamos de 244126 a 241298, es una cantidad pequeña de datos perdidos un 1.16% realmente, lo cual es excelente porque no afecta significativamente el volumen total del análisis, sumado a esto, ratifico el período de tiempo real para el análisis que es ahora del 2019-08-01 al 2019-08-07, un rango de fechas donde se tiene datos consistentes y completos, lo demuestra el histograma, pues las barras tienen una altura similar, indicando un volumen de eventos diarios uniformes y sin saltos repentinos de datos faltantes, esencial para un buen análisis de tendencias, tasas de conversión o resultados de experimentos, si no se hiciera se podrian sesgar y la idea es tener una base de datos limpia y representativa para el período de estudio!\n",
    "</div>"
   ]
  },
  {
   "cell_type": "markdown",
   "metadata": {},
   "source": [
    "# ¿Perdiste muchos eventos y usuarios al excluir los datos más antiguos?"
   ]
  },
  {
   "cell_type": "code",
   "execution_count": 30,
   "metadata": {},
   "outputs": [
    {
     "name": "stdout",
     "output_type": "stream",
     "text": [
      "\n",
      "Número de usuarios datos originales: 7551\n",
      "Número de usuarios datos filtrados (a partir de 2019-08-01): 7534\n",
      "Número de usuarios perdidos excluyendo datos más antiguos: 17\n",
      "Porcentaje de usuarios perdidos: 0.23%\n"
     ]
    }
   ],
   "source": [
    "num_users_original = df_logs['user_id'].nunique()\n",
    "\n",
    "num_users_filtered = df_logs_filtered['user_id'].nunique()\n",
    "\n",
    "users_lost = num_users_original - num_users_filtered\n",
    "\n",
    "print(f\"\\nNúmero de usuarios datos originales: {num_users_original}\")\n",
    "print(f\"Número de usuarios datos filtrados (a partir de 2019-08-01): {num_users_filtered}\")\n",
    "print(f\"Número de usuarios perdidos excluyendo datos más antiguos: {users_lost}\")\n",
    "\n",
    "percentage_users_lost = (users_lost / num_users_original) * 100\n",
    "print(f\"Porcentaje de usuarios perdidos: {percentage_users_lost:.2f}%\")"
   ]
  },
  {
   "cell_type": "markdown",
   "metadata": {},
   "source": [
    "<div class=\"alert alert-block alert-info\">\n",
    "<b>Comentario del estudiante</b> <a class=“tocSkip”></a>\n",
    "Solo se perdieron 2828 eventos y 17 usuarios de un total de 7551 originales, representando solo un insignificante 0.23% del total, es un número realmente bajo y poco significativo, perder menos del 1% de usuarios al filtrar datos incompletos es un costo mínimo por la ganancia de tener datos mucho más confiables y representativos, referentes al comportamiento habitual de los usuarios.\n",
    "</div>"
   ]
  },
  {
   "cell_type": "markdown",
   "metadata": {},
   "source": [
    "# Asegúrate de tener usuarios de los tres grupos experimentales."
   ]
  },
  {
   "cell_type": "code",
   "execution_count": 31,
   "metadata": {},
   "outputs": [
    {
     "name": "stdout",
     "output_type": "stream",
     "text": [
      "\n",
      "Número de usuarios únicos por grupo experimental (datos filtrados):\n",
      "exp_id\n",
      "246    2484\n",
      "247    2513\n",
      "248    2537\n",
      "Name: user_id, dtype: int64\n",
      "\n",
      "Número de eventos por grupo experimental (datos filtrados):\n",
      "246    79425\n",
      "247    77147\n",
      "248    84726\n",
      "Name: exp_id, dtype: int64\n"
     ]
    }
   ],
   "source": [
    "users_per_group = df_logs_filtered.groupby('exp_id')['user_id'].nunique()\n",
    "\n",
    "print(\"\\nNúmero de usuarios únicos por grupo experimental (datos filtrados):\")\n",
    "print(users_per_group)\n",
    "\n",
    "events_per_group = df_logs_filtered['exp_id'].value_counts().sort_index()\n",
    "print(\"\\nNúmero de eventos por grupo experimental (datos filtrados):\")\n",
    "print(events_per_group)"
   ]
  },
  {
   "cell_type": "markdown",
   "metadata": {},
   "source": [
    "<div class=\"alert alert-block alert-info\">\n",
    "<b>Comentario del estudiante</b> <a class=“tocSkip”></a>\n",
    "La distribucion de los usuarios y de los eventos en los tres grupos es bastante similar, tienen numeros bastante parecidos, algo ideal para un test A/A/B, las pequeñas variaciones parecen normales, se ve como una buena señal, mostrando que la división de grupos fue efectiva!\n",
    "</div>"
   ]
  },
  {
   "cell_type": "markdown",
   "metadata": {},
   "source": [
    "# Paso 4. Estudiar el embudo de eventos"
   ]
  },
  {
   "cell_type": "markdown",
   "metadata": {},
   "source": [
    "# Observa qué eventos hay en los registros y su frecuencia de suceso. Ordénalos por frecuencia."
   ]
  },
  {
   "cell_type": "code",
   "execution_count": 32,
   "metadata": {},
   "outputs": [
    {
     "name": "stdout",
     "output_type": "stream",
     "text": [
      "\n",
      "Frecuencia de cada evento (ordenado por los más frecuentes):\n",
      "MainScreenAppear           117431\n",
      "OffersScreenAppear          46350\n",
      "CartScreenAppear            42365\n",
      "PaymentScreenSuccessful     34113\n",
      "Tutorial                     1039\n",
      "Name: event_name, dtype: int64\n"
     ]
    }
   ],
   "source": [
    "event_frequency = df_logs_filtered['event_name'].value_counts()\n",
    "\n",
    "print(\"\\nFrecuencia de cada evento (ordenado por los más frecuentes):\")\n",
    "print(event_frequency)"
   ]
  },
  {
   "cell_type": "markdown",
   "metadata": {},
   "source": [
    "# Encuentra la cantidad de usuarios que realizaron cada una de estas acciones. Ordena los eventos por el número de usuarios. Calcula la proporción de usuarios que realizaron la acción al menos una vez."
   ]
  },
  {
   "cell_type": "code",
   "execution_count": 33,
   "metadata": {},
   "outputs": [
    {
     "name": "stdout",
     "output_type": "stream",
     "text": [
      "\n",
      "Número de usuarios únicos por evento (los más populares):\n",
      "event_name\n",
      "MainScreenAppear           7419\n",
      "OffersScreenAppear         4593\n",
      "CartScreenAppear           3734\n",
      "PaymentScreenSuccessful    3539\n",
      "Tutorial                    840\n",
      "Name: user_id, dtype: int64\n",
      "\n",
      "Número total de usuarios únicos en el período filtrado: 7534\n",
      "\n",
      "Proporción de usuarios únicos que realizaron cada acción (los más populares):\n",
      "event_name\n",
      "MainScreenAppear           98.47\n",
      "OffersScreenAppear         60.96\n",
      "CartScreenAppear           49.56\n",
      "PaymentScreenSuccessful    46.97\n",
      "Tutorial                   11.15\n",
      "Name: user_id, dtype: float64\n"
     ]
    }
   ],
   "source": [
    "users_per_event = df_logs_filtered.groupby('event_name')['user_id'].nunique().sort_values(ascending=False)\n",
    "\n",
    "print(\"\\nNúmero de usuarios únicos por evento (los más populares):\")\n",
    "print(users_per_event)\n",
    "\n",
    "total_unique_users = df_logs_filtered['user_id'].nunique()\n",
    "proportion_users_per_event = (users_per_event / total_unique_users) * 100\n",
    "\n",
    "print(f\"\\nNúmero total de usuarios únicos en el período filtrado: {total_unique_users}\")\n",
    "print(\"\\nProporción de usuarios únicos que realizaron cada acción (los más populares):\")\n",
    "print(proportion_users_per_event.round(2))"
   ]
  },
  {
   "cell_type": "markdown",
   "metadata": {},
   "source": [
    "<div class=\"alert alert-block alert-info\">\n",
    "<b>Comentario del estudiante</b> <a class=“tocSkip”></a>\n",
    "MainScreenAppear el 98.47% de los usuarios, confirma que casi todos los usuarios filtrados, llegaron a la pantalla principal, validando que la entrada al embudo es robusta y que la gran mayoría de los usuarios interactúan con la aplicación desde el inicio; En OffersScreenAppear con el 60.96% de los usuarios, existe una caída significativa de usuarios después de la pantalla principal, solo el 61% de los usuarios que vieron la pantalla principal, también vieron la pantalla de ofertas; En CartScreenAppear el 49.56% de los usuarios, menos de la mitad de los usuarios que vieron la pantalla principal, llegaron a ver la pantalla del carrito, algo crucial ya que el carrito es un paso previo al pago, asi entonces en paymentScreenSuccessful un 46.97% de los usuarios, sorprende, la caída de la pantalla del carrito a la pantalla de pago exitoso es relativamente baja, podria sugerir que los usuarios que llegan al carrito están bastante decididos a comprar; En tutorial con un 11.15% de los usuarios muy bajo reafirmaria la probabilidad de que no forman parte de la secuencia principal del embudo de ventas.\n",
    "</div>"
   ]
  },
  {
   "cell_type": "markdown",
   "metadata": {},
   "source": [
    "# ¿En qué orden crees que ocurrieron las acciones? ¿Todas son parte de una sola secuencia? No es necesario tenerlas en cuenta al calcular el embudo."
   ]
  },
  {
   "cell_type": "markdown",
   "metadata": {},
   "source": [
    "<div class=\"alert alert-block alert-info\">\n",
    "<b>Comentario del estudiante</b> <a class=“tocSkip”></a>\n",
    "1. MainScreenAppear: El usuario abre la app y ve la pantalla principal.\n",
    "2. OffersScreenAppear: Desde la pantalla principal, el usuario navega a ver las ofertas.\n",
    "3. CartScreenAppear: Desde ofertas o directamente, el usuario añade al carrito y ve la pantalla del carrito.\n",
    "4. PaymentScreenSuccessful: El usuario procede al pago y lo completa satisfactoriamente.\n",
    "El evento Tutorial no encaja directamente en esta secuencia de compra principal, puede ser visto en cualquier momento o simplemente ignorado por la mayoría.\n",
    "</div>"
   ]
  },
  {
   "cell_type": "markdown",
   "metadata": {},
   "source": [
    "# Utiliza el embudo de eventos para encontrar la proporción de usuarios que pasan de una etapa a la siguiente. Por ejemplo, para la secuencia de eventos A → B → C, calcula la proporción de usuarios en la etapa B a la cantidad de usuarios en la etapa A y la proporción de usuarios en la etapa C a la cantidad en la etapa B."
   ]
  },
  {
   "cell_type": "code",
   "execution_count": 34,
   "metadata": {},
   "outputs": [
    {
     "name": "stdout",
     "output_type": "stream",
     "text": [
      "\n",
      "--- Consolidado del Embudo de Eventos (Usuarios Únicos) ---\n",
      "                     Etapa  Usuarios Únicos  Porcentaje del Total de Usuarios  \\\n",
      "0         MainScreenAppear             7419                             98.47   \n",
      "1       OffersScreenAppear             4593                             60.96   \n",
      "2         CartScreenAppear             3734                             49.56   \n",
      "3  PaymentScreenSuccessful             3539                             46.97   \n",
      "\n",
      "   Tasa de Conversión (respecto a etapa anterior)  \\\n",
      "0                                          100.00   \n",
      "1                                           61.91   \n",
      "2                                           81.30   \n",
      "3                                           94.78   \n",
      "\n",
      "   Tasa de Conversión (respecto a MainScreenAppear)  \n",
      "0                                             98.47  \n",
      "1                                             61.91  \n",
      "2                                             50.33  \n",
      "3                                             47.70  \n"
     ]
    }
   ],
   "source": [
    "funnel_steps = ['MainScreenAppear',\n",
    "                'OffersScreenAppear',\n",
    "                'CartScreenAppear',\n",
    "                'PaymentScreenSuccessful']\n",
    "\n",
    "funnel_df = pd.DataFrame(columns=['event_name', 'unique_users', 'percentage_of_total_users', 'conversion_to_next_step'])\n",
    "\n",
    "total_users_in_dataset = df_logs_filtered['user_id'].nunique()\n",
    "\n",
    "users_in_each_step = []\n",
    "\n",
    "for i, step in enumerate(funnel_steps):\n",
    "    current_step_users = df_logs_filtered[df_logs_filtered['event_name'] == step]['user_id'].nunique()\n",
    "    \n",
    "    percentage_of_total = (current_step_users / total_users_in_dataset) * 100\n",
    "    \n",
    "    conversion_to_next = None\n",
    "    if i == 0: \n",
    "        pass \n",
    "    else:\n",
    "        previous_step_users_count = funnel_df.loc[i-1, 'unique_users']\n",
    "        if previous_step_users_count > 0:\n",
    "            conversion_to_next = (current_step_users / previous_step_users_count) * 100\n",
    "            \n",
    "    funnel_df.loc[i] = [step, current_step_users, percentage_of_total, conversion_to_next]\n",
    "\n",
    "funnel_df['conversion_to_next_step'] = funnel_df['unique_users'].pct_change() * 100\n",
    "funnel_df.loc[0, 'conversion_to_next_step'] = np.nan \n",
    "\n",
    "funnel_results = []\n",
    "for i, step in enumerate(funnel_steps):\n",
    "    current_users = df_logs_filtered[df_logs_filtered['event_name'] == step]['user_id'].nunique()\n",
    "    \n",
    "    if i == 0:\n",
    "        conversion_from_previous = 100.0 \n",
    "        total_conversion_from_start = (current_users / total_users_in_dataset) * 100\n",
    "    else:\n",
    "        previous_users = df_logs_filtered[df_logs_filtered['event_name'] == funnel_steps[i-1]]['user_id'].nunique()\n",
    "        conversion_from_previous = (current_users / previous_users) * 100 if previous_users > 0 else 0\n",
    "        total_conversion_from_start = (current_users / df_logs_filtered[df_logs_filtered['event_name'] == funnel_steps[0]]['user_id'].nunique()) * 100\n",
    "\n",
    "    funnel_results.append({\n",
    "        'Etapa': step,\n",
    "        'Usuarios Únicos': current_users,\n",
    "        'Porcentaje del Total de Usuarios': (current_users / total_users_in_dataset) * 100,\n",
    "        'Tasa de Conversión (respecto a etapa anterior)': conversion_from_previous,\n",
    "        'Tasa de Conversión (respecto a MainScreenAppear)': total_conversion_from_start\n",
    "    })\n",
    "\n",
    "funnel_summary_df = pd.DataFrame(funnel_results)\n",
    "\n",
    "print(\"\\n--- Consolidado del Embudo de Eventos (Usuarios Únicos) ---\")\n",
    "print(funnel_summary_df.round(2))"
   ]
  },
  {
   "cell_type": "markdown",
   "metadata": {},
   "source": [
    "# ¿En qué etapa pierdes más usuarios?"
   ]
  },
  {
   "cell_type": "markdown",
   "metadata": {},
   "source": [
    "<div class=\"alert alert-block alert-info\">\n",
    "<b>Comentario del estudiante</b> <a class=“tocSkip”></a>\n",
    "La mayor pérdida de usuarios ocurre en la transición de MainScreenAppear a OffersScreenAppear, con una tasa de conversión de 61.91% esto implica un 38.09% de abandono!!! podria tratarse del principal cuello de botella!\n",
    "</div>"
   ]
  },
  {
   "cell_type": "markdown",
   "metadata": {},
   "source": [
    "# ¿Qué porcentaje de usuarios hace todo el viaje desde su primer evento hasta el pago?"
   ]
  },
  {
   "cell_type": "markdown",
   "metadata": {},
   "source": [
    "<div class=\"alert alert-block alert-info\">\n",
    "<b>Comentario del estudiante</b> <a class=“tocSkip”></a>\n",
    "Solo el 47.70% de los usuarios que iniciaron el viaje, es decir, viendo la MainScreenAppear logran completar el PaymentScreenSuccessful, osea hasta el momento del pago.\n",
    "</div>"
   ]
  },
  {
   "cell_type": "markdown",
   "metadata": {},
   "source": [
    "# Paso 5. Estudiar los resultados del experimento"
   ]
  },
  {
   "cell_type": "code",
   "execution_count": 35,
   "metadata": {},
   "outputs": [
    {
     "name": "stdout",
     "output_type": "stream",
     "text": [
      "\n",
      "Número de usuarios únicos por grupo experimental (datos filtrados):\n",
      "exp_id\n",
      "246    2484\n",
      "247    2513\n",
      "248    2537\n",
      "Name: user_id, dtype: int64\n"
     ]
    }
   ],
   "source": [
    "users_per_group_exp = df_logs_filtered.groupby('exp_id')['user_id'].nunique()\n",
    "\n",
    "print(\"\\nNúmero de usuarios únicos por grupo experimental (datos filtrados):\")\n",
    "print(users_per_group_exp)"
   ]
  },
  {
   "cell_type": "markdown",
   "metadata": {},
   "source": [
    "# Tenemos dos grupos de control en el test A/A, donde comprobamos nuestros mecanismos y cálculos. Observa si hay una diferencia estadísticamente significativa entre las muestras 246 y 247."
   ]
  },
  {
   "cell_type": "code",
   "execution_count": 36,
   "metadata": {},
   "outputs": [
    {
     "name": "stdout",
     "output_type": "stream",
     "text": [
      "Grupo 246: 2450 usuarios realizaron 'MainScreenAppear' de un total de 2484.\n",
      "Grupo 247: 2476 usuarios realizaron 'MainScreenAppear' de un total de 2513.\n",
      "Proporción de usuarios en Grupo 246 que vieron 'MainScreenAppear': 0.9863\n",
      "Proporción de usuarios en Grupo 247 que vieron 'MainScreenAppear': 0.9853\n",
      "\n",
      "Valor p para la diferencia en proporciones de 'MainScreenAppear' (Grupos 246 vs 247): 0.757\n",
      "Conclusión: No rechazamos la hipótesis nula.\n",
      "No hay una diferencia estadísticamente significativa en proporción de usuarios que vieron la pantalla principal en Grupos 246 y 247.\n"
     ]
    }
   ],
   "source": [
    "most_popular_event = 'MainScreenAppear'\n",
    "\n",
    "users_in_popular_event = df_logs_filtered[df_logs_filtered['event_name'] == most_popular_event]\n",
    "\n",
    "users_in_popular_event_246 = users_in_popular_event[users_in_popular_event['exp_id'] == 246]['user_id'].nunique()\n",
    "users_in_popular_event_247 = users_in_popular_event[users_in_popular_event['exp_id'] == 247]['user_id'].nunique()\n",
    "\n",
    "total_users_246 = users_per_group_exp[246]\n",
    "total_users_247 = users_per_group_exp[247]\n",
    "\n",
    "print(f\"Grupo 246: {users_in_popular_event_246} usuarios realizaron '{most_popular_event}' de un total de {total_users_246}.\")\n",
    "print(f\"Grupo 247: {users_in_popular_event_247} usuarios realizaron '{most_popular_event}' de un total de {total_users_247}.\")\n",
    "\n",
    "proportion_246 = users_in_popular_event_246 / total_users_246\n",
    "proportion_247 = users_in_popular_event_247 / total_users_247\n",
    "\n",
    "print(f\"Proporción de usuarios en Grupo 246 que vieron '{most_popular_event}': {proportion_246:.4f}\")\n",
    "print(f\"Proporción de usuarios en Grupo 247 que vieron '{most_popular_event}': {proportion_247:.4f}\")\n",
    "\n",
    "sample_246 = np.zeros(total_users_246)\n",
    "sample_246[:users_in_popular_event_246] = 1 \n",
    "\n",
    "sample_247 = np.zeros(total_users_247)\n",
    "sample_247[:users_in_popular_event_247] = 1\n",
    "\n",
    "alpha = 0.05\n",
    "stat, pvalue = stats.mannwhitneyu(sample_246, sample_247)\n",
    "\n",
    "print(f\"\\nValor p para la diferencia en proporciones de '{most_popular_event}' (Grupos 246 vs 247): {pvalue:.3f}\")\n",
    "\n",
    "if pvalue < alpha:\n",
    "    print(\"Conclusión: Rechazamos la hipótesis nula.\")\n",
    "    print(\"Hay una diferencia estadísticamente significativa en proporción de usuarios que vieron la pantalla principal en Grupos 246 y 247.\")\n",
    "else:\n",
    "    print(\"Conclusión: No rechazamos la hipótesis nula.\")\n",
    "    print(\"No hay una diferencia estadísticamente significativa en proporción de usuarios que vieron la pantalla principal en Grupos 246 y 247.\")"
   ]
  },
  {
   "cell_type": "markdown",
   "metadata": {},
   "source": [
    "<div class=\"alert alert-block alert-info\">\n",
    "<b>Comentario del estudiante</b> <a class=“tocSkip”></a>\n",
    "Dado que el p-valor  es 0.757 un valor mucho mayor que nuestro alpha, No se rechaza la hipótesis nula, No hay una diferencia estadísticamente significativa en la proporción de usuarios que vieron la pantalla principal entre los Grupos 246 y 247, esto nos dice que los dos grupos de control A/A son estadísticamente similares en su comportamiento para el evento más popular el de MainScreenAppear, dandonos la seguridad y la confianza que la asignacion de usuarios a los grupos fue aleatoria y efectiva, no se evidencia un sesgo o algo similar, la manera de como se recolectaron los datos funciona, no se presentaron errores técnicos y se puede proceder con el test A/B.\n",
    "</div>"
   ]
  },
  {
   "cell_type": "markdown",
   "metadata": {},
   "source": [
    "# Selecciona el evento más popular. En cada uno de los grupos de control, encuentra la cantidad de usuarios que realizaron esta acción. Encuentra su proporción. Comprueba si la diferencia entre los grupos es estadísticamente significativa. Repite el procedimiento para todos los demás eventos (ahorrarás tiempo si creas una función especial para esta prueba). ¿Puedes confirmar que los grupos se dividieron correctamente?"
   ]
  },
  {
   "cell_type": "code",
   "execution_count": 37,
   "metadata": {},
   "outputs": [
    {
     "name": "stdout",
     "output_type": "stream",
     "text": [
      "\n",
      "Realizando Tests A/A para Grupos 246 vs 247 con alpha = 0.05\n",
      "--- Test para el evento: 'MainScreenAppear' ---\n",
      "Comparando Grupos [246] vs [247]\n",
      "Proporción en G1: 2450/2484 (0.9863)\n",
      "Proporción en G2: 2476/2513 (0.9853)\n",
      "Valor p: 0.757\n",
      "Conclusión: No rechazamos H0. No hay diferencia significativa.\n",
      "----------------------------------------\n",
      "--- Test para el evento: 'OffersScreenAppear' ---\n",
      "Comparando Grupos [246] vs [247]\n",
      "Proporción en G1: 1542/2484 (0.6208)\n",
      "Proporción en G2: 1520/2513 (0.6049)\n",
      "Valor p: 0.248\n",
      "Conclusión: No rechazamos H0. No hay diferencia significativa.\n",
      "----------------------------------------\n",
      "--- Test para el evento: 'CartScreenAppear' ---\n",
      "Comparando Grupos [246] vs [247]\n",
      "Proporción en G1: 1266/2484 (0.5097)\n",
      "Proporción en G2: 1238/2513 (0.4926)\n",
      "Valor p: 0.229\n",
      "Conclusión: No rechazamos H0. No hay diferencia significativa.\n",
      "----------------------------------------\n",
      "--- Test para el evento: 'PaymentScreenSuccessful' ---\n",
      "Comparando Grupos [246] vs [247]\n",
      "Proporción en G1: 1200/2484 (0.4831)\n",
      "Proporción en G2: 1158/2513 (0.4608)\n",
      "Valor p: 0.115\n",
      "Conclusión: No rechazamos H0. No hay diferencia significativa.\n",
      "----------------------------------------\n",
      "--- Test para el evento: 'Tutorial' ---\n",
      "Comparando Grupos [246] vs [247]\n",
      "Proporción en G1: 278/2484 (0.1119)\n",
      "Proporción en G2: 283/2513 (0.1126)\n",
      "Valor p: 0.938\n",
      "Conclusión: No rechazamos H0. No hay diferencia significativa.\n",
      "----------------------------------------\n",
      "\n",
      "--- Resumen de P-valores del Test A/A (Grupos 246 vs 247) ---\n",
      "Evento: MainScreenAppear          | P-valor: 0.757\n",
      "Evento: OffersScreenAppear        | P-valor: 0.248\n",
      "Evento: CartScreenAppear          | P-valor: 0.229\n",
      "Evento: PaymentScreenSuccessful   | P-valor: 0.115\n",
      "Evento: Tutorial                  | P-valor: 0.938\n",
      "\n",
      "Se confirma! Los grupos de control 246 y 247 se dividieron correctamente, no se encontraron diferencias estadísticamente significativas entre estos para ningun evento.\n"
     ]
    }
   ],
   "source": [
    "def check_statistical_difference(event_name, group_1, group_2, df, alpha=0.05):\n",
    "    \"\"\"\n",
    "    Realiza una prueba de Mann-Whitney U para comparar la proporción de usuarios\n",
    "    que realizaron un evento específico entre dos grupos experimentales.\n",
    "\n",
    "    Args:\n",
    "        event_name (str): Nombre del evento a comparar.\n",
    "        group_1 (int or list): ID del primer grupo (o lista de IDs si es un grupo combinado).\n",
    "        group_2 (int or list): ID del segundo grupo (o lista de IDs si es un grupo combinado).\n",
    "        df (pd.DataFrame): DataFrame con los datos de eventos.\n",
    "        alpha (float): Nivel de significancia para la prueba.\n",
    "\n",
    "    Returns:\n",
    "        float: El p-valor resultante de la prueba.\n",
    "    \"\"\"\n",
    "    \n",
    "    if not isinstance(group_1, list):\n",
    "        group_1 = [group_1]\n",
    "    if not isinstance(group_2, list):\n",
    "        group_2 = [group_2]\n",
    "\n",
    "    total_users_group_1 = df[df['exp_id'].isin(group_1)]['user_id'].nunique()\n",
    "    total_users_group_2 = df[df['exp_id'].isin(group_2)]['user_id'].nunique()\n",
    "\n",
    "    users_event_group_1 = df[(df['event_name'] == event_name) & (df['exp_id'].isin(group_1))]['user_id'].nunique()\n",
    "    users_event_group_2 = df[(df['event_name'] == event_name) & (df['exp_id'].isin(group_2))]['user_id'].nunique()\n",
    "\n",
    "    sample_1 = np.zeros(total_users_group_1)\n",
    "    sample_1[:users_event_group_1] = 1\n",
    "\n",
    "    sample_2 = np.zeros(total_users_group_2)\n",
    "    sample_2[:users_event_group_2] = 1\n",
    "\n",
    "    stat, pvalue = stats.mannwhitneyu(sample_1, sample_2)\n",
    "\n",
    "    print(f\"--- Test para el evento: '{event_name}' ---\")\n",
    "    print(f\"Comparando Grupos {group_1} vs {group_2}\")\n",
    "    print(f\"Proporción en G1: {users_event_group_1}/{total_users_group_1} ({users_event_group_1/total_users_group_1:.4f})\")\n",
    "    print(f\"Proporción en G2: {users_event_group_2}/{total_users_group_2} ({users_event_group_2/total_users_group_2:.4f})\")\n",
    "    print(f\"Valor p: {pvalue:.3f}\")\n",
    "\n",
    "    if pvalue < alpha:\n",
    "        print(f\"Conclusión: Rechazamos H0. Diferencia significativa.\")\n",
    "    else:\n",
    "        print(f\"Conclusión: No rechazamos H0. No hay diferencia significativa.\")\n",
    "    print(\"-\" * 40)\n",
    "\n",
    "    return pvalue\n",
    "\n",
    "all_events = df_logs_filtered['event_name'].unique()\n",
    "events_to_test = df_logs_filtered['event_name'].value_counts().index.tolist()\n",
    "\n",
    "alpha = 0.05\n",
    "print(f\"\\nRealizando Tests A/A para Grupos 246 vs 247 con alpha = {alpha}\")\n",
    "\n",
    "p_values_aa = []\n",
    "\n",
    "for event in events_to_test:\n",
    "    p = check_statistical_difference(event, 246, 247, df_logs_filtered, alpha)\n",
    "    p_values_aa.append(p)\n",
    "\n",
    "print(\"\\n--- Resumen de P-valores del Test A/A (Grupos 246 vs 247) ---\")\n",
    "for i, event in enumerate(events_to_test):\n",
    "    print(f\"Evento: {event:<25} | P-valor: {p_values_aa[i]:.3f}\")\n",
    "\n",
    "if all(p >= alpha for p in p_values_aa):\n",
    "    print(\"\\nSe confirma! Los grupos de control 246 y 247 se dividieron correctamente, no se encontraron diferencias estadísticamente significativas entre estos para ningun evento.\")\n",
    "else:\n",
    "    print(\"\\nNO se confirma! Se encontraron diferencias estadísticamente significativas entre los grupos de control 246 y 247 en al menos un evento, posible problema en la división de los grupos.\")"
   ]
  },
  {
   "cell_type": "markdown",
   "metadata": {},
   "source": [
    "# Haz lo mismo para el grupo con fuentes alteradas. Compara los resultados con los de cada uno de los grupos de control para cada evento de forma aislada. Compara los resultados con los resultados combinados de los grupos de control. ¿Qué conclusiones puedes sacar del experimento?"
   ]
  },
  {
   "cell_type": "code",
   "execution_count": 38,
   "metadata": {},
   "outputs": [
    {
     "name": "stdout",
     "output_type": "stream",
     "text": [
      "\n",
      "Tests A/B (Grupo 248 vs Controles) con alpha = 0.05\n",
      "\n",
      "--- Analizando Evento: MainScreenAppear ---\n",
      "--- Test para el evento: 'MainScreenAppear' ---\n",
      "Comparando Grupos [248] vs [246]\n",
      "Proporción en G1: 2493/2537 (0.9827)\n",
      "Proporción en G2: 2450/2484 (0.9863)\n",
      "Valor p: 0.295\n",
      "Conclusión: No rechazamos H0. No hay diferencia significativa.\n",
      "----------------------------------------\n",
      "--- Test para el evento: 'MainScreenAppear' ---\n",
      "Comparando Grupos [248] vs [247]\n",
      "Proporción en G1: 2493/2537 (0.9827)\n",
      "Proporción en G2: 2476/2513 (0.9853)\n",
      "Valor p: 0.459\n",
      "Conclusión: No rechazamos H0. No hay diferencia significativa.\n",
      "----------------------------------------\n",
      "--- Test para el evento: 'MainScreenAppear' ---\n",
      "Comparando Grupos [248] vs [246, 247]\n",
      "Proporción en G1: 2493/2537 (0.9827)\n",
      "Proporción en G2: 4926/4997 (0.9858)\n",
      "Valor p: 0.294\n",
      "Conclusión: No rechazamos H0. No hay diferencia significativa.\n",
      "----------------------------------------\n",
      "\n",
      "--- Analizando Evento: OffersScreenAppear ---\n",
      "--- Test para el evento: 'OffersScreenAppear' ---\n",
      "Comparando Grupos [248] vs [246]\n",
      "Proporción en G1: 1531/2537 (0.6035)\n",
      "Proporción en G2: 1542/2484 (0.6208)\n",
      "Valor p: 0.208\n",
      "Conclusión: No rechazamos H0. No hay diferencia significativa.\n",
      "----------------------------------------\n",
      "--- Test para el evento: 'OffersScreenAppear' ---\n",
      "Comparando Grupos [248] vs [247]\n",
      "Proporción en G1: 1531/2537 (0.6035)\n",
      "Proporción en G2: 1520/2513 (0.6049)\n",
      "Valor p: 0.920\n",
      "Conclusión: No rechazamos H0. No hay diferencia significativa.\n",
      "----------------------------------------\n",
      "--- Test para el evento: 'OffersScreenAppear' ---\n",
      "Comparando Grupos [248] vs [246, 247]\n",
      "Proporción en G1: 1531/2537 (0.6035)\n",
      "Proporción en G2: 3062/4997 (0.6128)\n",
      "Valor p: 0.434\n",
      "Conclusión: No rechazamos H0. No hay diferencia significativa.\n",
      "----------------------------------------\n",
      "\n",
      "--- Analizando Evento: CartScreenAppear ---\n",
      "--- Test para el evento: 'CartScreenAppear' ---\n",
      "Comparando Grupos [248] vs [246]\n",
      "Proporción en G1: 1230/2537 (0.4848)\n",
      "Proporción en G2: 1266/2484 (0.5097)\n",
      "Valor p: 0.078\n",
      "Conclusión: No rechazamos H0. No hay diferencia significativa.\n",
      "----------------------------------------\n",
      "--- Test para el evento: 'CartScreenAppear' ---\n",
      "Comparando Grupos [248] vs [247]\n",
      "Proporción en G1: 1230/2537 (0.4848)\n",
      "Proporción en G2: 1238/2513 (0.4926)\n",
      "Valor p: 0.579\n",
      "Conclusión: No rechazamos H0. No hay diferencia significativa.\n",
      "----------------------------------------\n",
      "--- Test para el evento: 'CartScreenAppear' ---\n",
      "Comparando Grupos [248] vs [246, 247]\n",
      "Proporción en G1: 1230/2537 (0.4848)\n",
      "Proporción en G2: 2504/4997 (0.5011)\n",
      "Valor p: 0.182\n",
      "Conclusión: No rechazamos H0. No hay diferencia significativa.\n",
      "----------------------------------------\n",
      "\n",
      "--- Analizando Evento: PaymentScreenSuccessful ---\n",
      "--- Test para el evento: 'PaymentScreenSuccessful' ---\n",
      "Comparando Grupos [248] vs [246]\n",
      "Proporción en G1: 1181/2537 (0.4655)\n",
      "Proporción en G2: 1200/2484 (0.4831)\n",
      "Valor p: 0.212\n",
      "Conclusión: No rechazamos H0. No hay diferencia significativa.\n",
      "----------------------------------------\n",
      "--- Test para el evento: 'PaymentScreenSuccessful' ---\n",
      "Comparando Grupos [248] vs [247]\n",
      "Proporción en G1: 1181/2537 (0.4655)\n",
      "Proporción en G2: 1158/2513 (0.4608)\n",
      "Valor p: 0.737\n",
      "Conclusión: No rechazamos H0. No hay diferencia significativa.\n",
      "----------------------------------------\n",
      "--- Test para el evento: 'PaymentScreenSuccessful' ---\n",
      "Comparando Grupos [248] vs [246, 247]\n",
      "Proporción en G1: 1181/2537 (0.4655)\n",
      "Proporción en G2: 2358/4997 (0.4719)\n",
      "Valor p: 0.600\n",
      "Conclusión: No rechazamos H0. No hay diferencia significativa.\n",
      "----------------------------------------\n",
      "\n",
      "--- Analizando Evento: Tutorial ---\n",
      "--- Test para el evento: 'Tutorial' ---\n",
      "Comparando Grupos [248] vs [246]\n",
      "Proporción en G1: 279/2537 (0.1100)\n",
      "Proporción en G2: 278/2484 (0.1119)\n",
      "Valor p: 0.826\n",
      "Conclusión: No rechazamos H0. No hay diferencia significativa.\n",
      "----------------------------------------\n",
      "--- Test para el evento: 'Tutorial' ---\n",
      "Comparando Grupos [248] vs [247]\n",
      "Proporción en G1: 279/2537 (0.1100)\n",
      "Proporción en G2: 283/2513 (0.1126)\n",
      "Valor p: 0.765\n",
      "Conclusión: No rechazamos H0. No hay diferencia significativa.\n",
      "----------------------------------------\n",
      "--- Test para el evento: 'Tutorial' ---\n",
      "Comparando Grupos [248] vs [246, 247]\n",
      "Proporción en G1: 279/2537 (0.1100)\n",
      "Proporción en G2: 561/4997 (0.1123)\n",
      "Valor p: 0.765\n",
      "Conclusión: No rechazamos H0. No hay diferencia significativa.\n",
      "----------------------------------------\n",
      "\n",
      "--- CONSOLIDADO FINAL DE P-VALORES DEL TEST A/B ---\n",
      "Evento                    248 vs 246      248 vs 247      248 vs Comb.   \n",
      "----------------------------------------------------------------------\n",
      "MainScreenAppear          0.295           0.459           0.294          \n",
      "OffersScreenAppear        0.208           0.920           0.434          \n",
      "CartScreenAppear          0.078           0.579           0.182          \n",
      "PaymentScreenSuccessful   0.212           0.737           0.600          \n",
      "Tutorial                  0.826           0.765           0.765          \n"
     ]
    }
   ],
   "source": [
    "alpha = 0.05\n",
    "print(f\"\\nTests A/B (Grupo 248 vs Controles) con alpha = {alpha}\")\n",
    "\n",
    "events_to_test = df_logs_filtered['event_name'].value_counts().index.tolist()\n",
    "\n",
    "p_values_248_vs_246 = []\n",
    "p_values_248_vs_247 = []\n",
    "p_values_248_vs_combined = []\n",
    "\n",
    "\n",
    "for event in events_to_test:\n",
    "    print(f\"\\n--- Analizando Evento: {event} ---\")\n",
    "    \n",
    "    p_248_246 = check_statistical_difference(event, 248, 246, df_logs_filtered, alpha)\n",
    "    p_values_248_vs_246.append(p_248_246)\n",
    "\n",
    "    p_248_247 = check_statistical_difference(event, 248, 247, df_logs_filtered, alpha)\n",
    "    p_values_248_vs_247.append(p_248_247)\n",
    "\n",
    "    p_248_combined = check_statistical_difference(event, 248, [246, 247], df_logs_filtered, alpha)\n",
    "    p_values_248_vs_combined.append(p_248_combined)\n",
    "\n",
    "print(\"\\n--- CONSOLIDADO FINAL DE P-VALORES DEL TEST A/B ---\")\n",
    "print(\"{:<25} {:<15} {:<15} {:<15}\".format(\"Evento\", \"248 vs 246\", \"248 vs 247\", \"248 vs Comb.\"))\n",
    "print(\"-\" * 70)\n",
    "for i, event in enumerate(events_to_test):\n",
    "    print(\"{:<25} {:<15.3f} {:<15.3f} {:<15.3f}\".format(\n",
    "        event,\n",
    "        p_values_248_vs_246[i],\n",
    "        p_values_248_vs_247[i],\n",
    "        p_values_248_vs_combined[i]\n",
    "    ))"
   ]
  },
  {
   "cell_type": "markdown",
   "metadata": {},
   "source": [
    "<div class=\"alert alert-block alert-info\">\n",
    "<b>Comentario del estudiante</b> <a class=“tocSkip”></a>\n",
    "Las conclusiones a este experimento desembocan principalmente en que NO HAY diferencia estadísticamente significativa en el comportamiento del usuario para ninguno de los eventos clave del embudo o inclusive el tutorial, pero se encontró una diferencia estadísticamente significativa entre el Grupo 248 nuestra nueva fuente y los grupos de control 246 y 247, tanto individualmente como combinados, este cambio de fuente no ha tenido un impacto considerable dado que la implementación de las nuevas fuentes en la aplicación no han logrado generar un cambio positivo y tampoco negativo en las métricas de interacción del usuario o en la tasa de conversión a través del embudo de ventas, es asi como el hecho de que el test A/A inicial para MainScreenAppear con un p-valor = 0.757 no mostrara diferencias significativas, dio la confianza necesaria en que nuestros grupos de control eran similares y a su vez los resultados del test A/B reafirman que, si hubiera habido un efecto, se habria detectado; Seria preciso recomendar al area de producto/marketing que basado en este experimento, el cambio en las fuentes por sí solo no parece ser un factor que impulse el comportamiento del usuario o mejore la conversión, no habria razón para revertir el cambio, pues este no causó un impacto negativo, por tal razon no hay razón para esperar una mejora en las métricas clave del embudo debido a este cambio; Mi sugerencia podria decir que el equipo de producto debería investigar otras hipótesis o elementos de la interfaz de usuario para mejorar las tasas de conversión, especialmente en la primera y segunda etapa del embudo de MainScreenAppear a OffersScreenAppear, y OffersScreenAppear a CartScreenAppear, donde vimos las mayores caídas de usuarios!\n",
    "</div>"
   ]
  },
  {
   "cell_type": "markdown",
   "metadata": {},
   "source": [
    "# ¿Qué nivel de significancia has establecido para probar las hipótesis estadísticas mencionadas anteriormente? Calcula cuántas pruebas de hipótesis estadísticas has realizado. Con un nivel de significancia estadística de 0.1, uno de cada 10 resultados podría ser falso. ¿Cuál debería ser el nivel de significancia? Si deseas cambiarlo, vuelve a ejecutar los pasos anteriores y comprueba tus conclusiones."
   ]
  },
  {
   "cell_type": "markdown",
   "metadata": {},
   "source": [
    "<div class=\"alert alert-block alert-info\">\n",
    "<b>Comentario del estudiante</b> <a class=“tocSkip”></a>\n",
    "Test A/A Grupos 246 vs 247 se probaron cada uno de los 5 eventos MainScreenAppear, OffersScreenAppear, CartScreenAppear, PaymentScreenSuccessful, Tutorial, es decir un Total de 5 pruebas.\n",
    "    \n",
    "Test A/B Grupo 248 vs Controles se probaron cada uno de los 5 eventos y para cada evento, se hicieron 3 comparaciones, Grupo 248 vs Grupo 246, Grupo 248 vs Grupo 247, Grupo 248 vs Grupos 246 y 247 combinados, para un total de 5 eventos por 3 comparaciones/evento es decir 15 pruebas.\n",
    "\n",
    "El total de todas las pruebas de hipótesis realizadas fueron 5 de A/A mas 15 de A/B para un gran total de 20!\n",
    "</div>"
   ]
  },
  {
   "cell_type": "code",
   "execution_count": 39,
   "metadata": {},
   "outputs": [
    {
     "name": "stdout",
     "output_type": "stream",
     "text": [
      "\n",
      "Nivel de significancia ajustado con Bonferroni: alpha = 0.0025\n",
      "\n",
      "--- RE-EJECUTANDO TESTS A/A (Grupos 246 vs 247) con alpha ajustado ---\n",
      "--- Test para el evento: 'MainScreenAppear' ---\n",
      "Comparando Grupos [246] vs [247]\n",
      "Proporción en G1: 2450/2484 (0.9863)\n",
      "Proporción en G2: 2476/2513 (0.9853)\n",
      "Valor p: 0.757\n",
      "Conclusión: No rechazamos H0. No hay diferencia significativa.\n",
      "----------------------------------------\n",
      "--- Test para el evento: 'OffersScreenAppear' ---\n",
      "Comparando Grupos [246] vs [247]\n",
      "Proporción en G1: 1542/2484 (0.6208)\n",
      "Proporción en G2: 1520/2513 (0.6049)\n",
      "Valor p: 0.248\n",
      "Conclusión: No rechazamos H0. No hay diferencia significativa.\n",
      "----------------------------------------\n",
      "--- Test para el evento: 'CartScreenAppear' ---\n",
      "Comparando Grupos [246] vs [247]\n",
      "Proporción en G1: 1266/2484 (0.5097)\n",
      "Proporción en G2: 1238/2513 (0.4926)\n",
      "Valor p: 0.229\n",
      "Conclusión: No rechazamos H0. No hay diferencia significativa.\n",
      "----------------------------------------\n",
      "--- Test para el evento: 'PaymentScreenSuccessful' ---\n",
      "Comparando Grupos [246] vs [247]\n",
      "Proporción en G1: 1200/2484 (0.4831)\n",
      "Proporción en G2: 1158/2513 (0.4608)\n",
      "Valor p: 0.115\n",
      "Conclusión: No rechazamos H0. No hay diferencia significativa.\n",
      "----------------------------------------\n",
      "--- Test para el evento: 'Tutorial' ---\n",
      "Comparando Grupos [246] vs [247]\n",
      "Proporción en G1: 278/2484 (0.1119)\n",
      "Proporción en G2: 283/2513 (0.1126)\n",
      "Valor p: 0.938\n",
      "Conclusión: No rechazamos H0. No hay diferencia significativa.\n",
      "----------------------------------------\n",
      "\n",
      "--- RESUMEN DE P-VALORES AJUSTADOS del Test A/A (Grupos 246 vs 247) ---\n",
      "Evento: MainScreenAppear          | P-valor: 0.757 | No significativo\n",
      "Evento: OffersScreenAppear        | P-valor: 0.248 | No significativo\n",
      "Evento: CartScreenAppear          | P-valor: 0.229 | No significativo\n",
      "Evento: PaymentScreenSuccessful   | P-valor: 0.115 | No significativo\n",
      "Evento: Tutorial                  | P-valor: 0.938 | No significativo\n",
      "\n",
      "--- RE-EJECUTANDO TESTS A/B (Grupo 248 vs Controles) con alpha ajustado ---\n",
      "\n",
      "--- Analizando Evento: MainScreenAppear ---\n",
      "--- Test para el evento: 'MainScreenAppear' ---\n",
      "Comparando Grupos [248] vs [246]\n",
      "Proporción en G1: 2493/2537 (0.9827)\n",
      "Proporción en G2: 2450/2484 (0.9863)\n",
      "Valor p: 0.295\n",
      "Conclusión: No rechazamos H0. No hay diferencia significativa.\n",
      "----------------------------------------\n",
      "--- Test para el evento: 'MainScreenAppear' ---\n",
      "Comparando Grupos [248] vs [247]\n",
      "Proporción en G1: 2493/2537 (0.9827)\n",
      "Proporción en G2: 2476/2513 (0.9853)\n",
      "Valor p: 0.459\n",
      "Conclusión: No rechazamos H0. No hay diferencia significativa.\n",
      "----------------------------------------\n",
      "--- Test para el evento: 'MainScreenAppear' ---\n",
      "Comparando Grupos [248] vs [246, 247]\n",
      "Proporción en G1: 2493/2537 (0.9827)\n",
      "Proporción en G2: 4926/4997 (0.9858)\n",
      "Valor p: 0.294\n",
      "Conclusión: No rechazamos H0. No hay diferencia significativa.\n",
      "----------------------------------------\n",
      "\n",
      "--- Analizando Evento: OffersScreenAppear ---\n",
      "--- Test para el evento: 'OffersScreenAppear' ---\n",
      "Comparando Grupos [248] vs [246]\n",
      "Proporción en G1: 1531/2537 (0.6035)\n",
      "Proporción en G2: 1542/2484 (0.6208)\n",
      "Valor p: 0.208\n",
      "Conclusión: No rechazamos H0. No hay diferencia significativa.\n",
      "----------------------------------------\n",
      "--- Test para el evento: 'OffersScreenAppear' ---\n",
      "Comparando Grupos [248] vs [247]\n",
      "Proporción en G1: 1531/2537 (0.6035)\n",
      "Proporción en G2: 1520/2513 (0.6049)\n",
      "Valor p: 0.920\n",
      "Conclusión: No rechazamos H0. No hay diferencia significativa.\n",
      "----------------------------------------\n",
      "--- Test para el evento: 'OffersScreenAppear' ---\n",
      "Comparando Grupos [248] vs [246, 247]\n",
      "Proporción en G1: 1531/2537 (0.6035)\n",
      "Proporción en G2: 3062/4997 (0.6128)\n",
      "Valor p: 0.434\n",
      "Conclusión: No rechazamos H0. No hay diferencia significativa.\n",
      "----------------------------------------\n",
      "\n",
      "--- Analizando Evento: CartScreenAppear ---\n",
      "--- Test para el evento: 'CartScreenAppear' ---\n",
      "Comparando Grupos [248] vs [246]\n",
      "Proporción en G1: 1230/2537 (0.4848)\n",
      "Proporción en G2: 1266/2484 (0.5097)\n",
      "Valor p: 0.078\n",
      "Conclusión: No rechazamos H0. No hay diferencia significativa.\n",
      "----------------------------------------\n",
      "--- Test para el evento: 'CartScreenAppear' ---\n",
      "Comparando Grupos [248] vs [247]\n",
      "Proporción en G1: 1230/2537 (0.4848)\n",
      "Proporción en G2: 1238/2513 (0.4926)\n",
      "Valor p: 0.579\n",
      "Conclusión: No rechazamos H0. No hay diferencia significativa.\n",
      "----------------------------------------\n",
      "--- Test para el evento: 'CartScreenAppear' ---\n",
      "Comparando Grupos [248] vs [246, 247]\n",
      "Proporción en G1: 1230/2537 (0.4848)\n",
      "Proporción en G2: 2504/4997 (0.5011)\n",
      "Valor p: 0.182\n",
      "Conclusión: No rechazamos H0. No hay diferencia significativa.\n",
      "----------------------------------------\n",
      "\n",
      "--- Analizando Evento: PaymentScreenSuccessful ---\n",
      "--- Test para el evento: 'PaymentScreenSuccessful' ---\n",
      "Comparando Grupos [248] vs [246]\n",
      "Proporción en G1: 1181/2537 (0.4655)\n",
      "Proporción en G2: 1200/2484 (0.4831)\n",
      "Valor p: 0.212\n",
      "Conclusión: No rechazamos H0. No hay diferencia significativa.\n",
      "----------------------------------------\n",
      "--- Test para el evento: 'PaymentScreenSuccessful' ---\n",
      "Comparando Grupos [248] vs [247]\n",
      "Proporción en G1: 1181/2537 (0.4655)\n",
      "Proporción en G2: 1158/2513 (0.4608)\n",
      "Valor p: 0.737\n",
      "Conclusión: No rechazamos H0. No hay diferencia significativa.\n",
      "----------------------------------------\n",
      "--- Test para el evento: 'PaymentScreenSuccessful' ---\n",
      "Comparando Grupos [248] vs [246, 247]\n",
      "Proporción en G1: 1181/2537 (0.4655)\n",
      "Proporción en G2: 2358/4997 (0.4719)\n",
      "Valor p: 0.600\n",
      "Conclusión: No rechazamos H0. No hay diferencia significativa.\n",
      "----------------------------------------\n",
      "\n",
      "--- Analizando Evento: Tutorial ---\n",
      "--- Test para el evento: 'Tutorial' ---\n",
      "Comparando Grupos [248] vs [246]\n",
      "Proporción en G1: 279/2537 (0.1100)\n",
      "Proporción en G2: 278/2484 (0.1119)\n",
      "Valor p: 0.826\n",
      "Conclusión: No rechazamos H0. No hay diferencia significativa.\n",
      "----------------------------------------\n",
      "--- Test para el evento: 'Tutorial' ---\n",
      "Comparando Grupos [248] vs [247]\n",
      "Proporción en G1: 279/2537 (0.1100)\n",
      "Proporción en G2: 283/2513 (0.1126)\n",
      "Valor p: 0.765\n",
      "Conclusión: No rechazamos H0. No hay diferencia significativa.\n",
      "----------------------------------------\n",
      "--- Test para el evento: 'Tutorial' ---\n",
      "Comparando Grupos [248] vs [246, 247]\n",
      "Proporción en G1: 279/2537 (0.1100)\n",
      "Proporción en G2: 561/4997 (0.1123)\n",
      "Valor p: 0.765\n",
      "Conclusión: No rechazamos H0. No hay diferencia significativa.\n",
      "----------------------------------------\n",
      "\n",
      "--- RESUMEN FINAL DE P-VALORES AJUSTADOS DEL TEST A/B ---\n",
      "Evento                    248 vs 246      248 vs 247      248 vs Comb.    Concl.         \n",
      "--------------------------------------------------------------------------------\n",
      "MainScreenAppear          0.295           0.459           0.294           No significativo\n",
      "OffersScreenAppear        0.208           0.920           0.434           No significativo\n",
      "CartScreenAppear          0.078           0.579           0.182           No significativo\n",
      "PaymentScreenSuccessful   0.212           0.737           0.600           No significativo\n",
      "Tutorial                  0.826           0.765           0.765           No significativo\n"
     ]
    }
   ],
   "source": [
    "bonferroni_alpha = 0.05 / 20 \n",
    "print(f\"\\nNivel de significancia ajustado con Bonferroni: alpha = {bonferroni_alpha:.4f}\")\n",
    "\n",
    "print(\"\\n--- RE-EJECUTANDO TESTS A/A (Grupos 246 vs 247) con alpha ajustado ---\")\n",
    "p_values_aa_adjusted = []\n",
    "for event in events_to_test:\n",
    "    p = check_statistical_difference(event, 246, 247, df_logs_filtered, bonferroni_alpha)\n",
    "    p_values_aa_adjusted.append(p)\n",
    "\n",
    "print(\"\\n--- RESUMEN DE P-VALORES AJUSTADOS del Test A/A (Grupos 246 vs 247) ---\")\n",
    "for i, event in enumerate(events_to_test):\n",
    "    print(f\"Evento: {event:<25} | P-valor: {p_values_aa_adjusted[i]:.3f} | {'Significativo' if p_values_aa_adjusted[i] < bonferroni_alpha else 'No significativo'}\")\n",
    "\n",
    "print(\"\\n--- RE-EJECUTANDO TESTS A/B (Grupo 248 vs Controles) con alpha ajustado ---\")\n",
    "p_values_248_vs_246_adjusted = []\n",
    "p_values_248_vs_247_adjusted = []\n",
    "p_values_248_vs_combined_adjusted = []\n",
    "\n",
    "for event in events_to_test:\n",
    "    print(f\"\\n--- Analizando Evento: {event} ---\")\n",
    "    \n",
    "    p_248_246 = check_statistical_difference(event, 248, 246, df_logs_filtered, bonferroni_alpha)\n",
    "    p_values_248_vs_246_adjusted.append(p_248_246)\n",
    "\n",
    "    p_248_247 = check_statistical_difference(event, 248, 247, df_logs_filtered, bonferroni_alpha)\n",
    "    p_values_248_vs_247_adjusted.append(p_248_247)\n",
    "\n",
    "    p_248_combined = check_statistical_difference(event, 248, [246, 247], df_logs_filtered, bonferroni_alpha)\n",
    "    p_values_248_vs_combined_adjusted.append(p_248_combined)\n",
    "\n",
    "print(\"\\n--- RESUMEN FINAL DE P-VALORES AJUSTADOS DEL TEST A/B ---\")\n",
    "print(\"{:<25} {:<15} {:<15} {:<15} {:<15}\".format(\"Evento\", \"248 vs 246\", \"248 vs 247\", \"248 vs Comb.\", \"Concl.\"))\n",
    "print(\"-\" * 80)\n",
    "for i, event in enumerate(events_to_test):\n",
    "    conclusion_246 = \"Sig.\" if p_values_248_vs_246_adjusted[i] < bonferroni_alpha else \"No Sig.\"\n",
    "    conclusion_247 = \"Sig.\" if p_values_248_vs_247_adjusted[i] < bonferroni_alpha else \"No Sig.\"\n",
    "    conclusion_combined = \"Sig.\" if p_values_248_vs_combined_adjusted[i] < bonferroni_alpha else \"No Sig.\"\n",
    "    \n",
    "    overall_conclusion = \"Significativo en alguna\" if any(p < bonferroni_alpha for p in [p_values_248_vs_246_adjusted[i], p_values_248_vs_247_adjusted[i], p_values_248_vs_combined_adjusted[i]]) else \"No significativo\"\n",
    "\n",
    "    print(\"{:<25} {:<15.3f} {:<15.3f} {:<15.3f} {:<15}\".format(\n",
    "        event,\n",
    "        p_values_248_vs_246_adjusted[i],\n",
    "        p_values_248_vs_247_adjusted[i],\n",
    "        p_values_248_vs_combined_adjusted[i],\n",
    "        overall_conclusion\n",
    "    ))"
   ]
  },
  {
   "cell_type": "markdown",
   "metadata": {},
   "source": [
    "<div class=\"alert alert-block alert-info\">\n",
    "<b>Comentario del estudiante</b> <a class=“tocSkip”></a>\n",
    "El nuevo impacto del ajuste de Alfa en 0.0025 es mucho más estricto que el original, sin embargo, al observar los p, ninguno de ellos se acerca lo suficiente a este nuevo umbral que es mucho mas estricto segun la cantidad de pruebas realizadas, todos siguen siendo significativamente mayores que 0.0025; Por el lado del resumen del Test A/A, todos los p-valores son mucho mayores que 0.0025, refuerza la conclusión de que los grupos de control 246 y 247 son estadísticamente indistinguibles y el sistema de experimentación es robusto y confiable; Y por el lado del Test A/B, las conclusiones previas se mantienen firmes, ahora incluso con un criterio mucho más estricto para la significancia estadística, en donde no se encontro evidencia de que el Grupo 248 nuestra nueva fuente, tuviera un rendimiento diferente en comparación con los grupos de control para ninguno de los eventos del embudo o el tutorial, lo que significa que el cambio de fuente no ha tenido un impacto estadísticamente significativo sea positivo o negativo en el comportamiento de los usuarios en la aplicación.\n",
    "</div>"
   ]
  },
  {
   "cell_type": "code",
   "execution_count": null,
   "metadata": {},
   "outputs": [],
   "source": []
  }
 ],
 "metadata": {
  "kernelspec": {
   "display_name": "Python 3 (ipykernel)",
   "language": "python",
   "name": "python3"
  },
  "language_info": {
   "codemirror_mode": {
    "name": "ipython",
    "version": 3
   },
   "file_extension": ".py",
   "mimetype": "text/x-python",
   "name": "python",
   "nbconvert_exporter": "python",
   "pygments_lexer": "ipython3",
   "version": "3.9.22"
  }
 },
 "nbformat": 4,
 "nbformat_minor": 4
}
